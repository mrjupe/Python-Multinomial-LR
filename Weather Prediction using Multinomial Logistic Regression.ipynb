{
 "cells": [
  {
   "cell_type": "code",
   "execution_count": 121,
   "metadata": {},
   "outputs": [],
   "source": [
    "import pandas as pd\n",
    "import numpy as np\n",
    "import matplotlib.pyplot as plt\n",
    "import statsmodels.api as sm\n",
    "\n",
    "from sklearn.preprocessing import StandardScaler\n",
    "from sklearn.model_selection import train_test_split\n",
    "from sklearn.linear_model import LogisticRegression\n",
    "from sklearn.metrics import confusion_matrix, classification_report"
   ]
  },
  {
   "cell_type": "code",
   "execution_count": 122,
   "metadata": {},
   "outputs": [
    {
     "data": {
      "text/html": [
       "<div>\n",
       "<style scoped>\n",
       "    .dataframe tbody tr th:only-of-type {\n",
       "        vertical-align: middle;\n",
       "    }\n",
       "\n",
       "    .dataframe tbody tr th {\n",
       "        vertical-align: top;\n",
       "    }\n",
       "\n",
       "    .dataframe thead th {\n",
       "        text-align: right;\n",
       "    }\n",
       "</style>\n",
       "<table border=\"1\" class=\"dataframe\">\n",
       "  <thead>\n",
       "    <tr style=\"text-align: right;\">\n",
       "      <th></th>\n",
       "      <th>day</th>\n",
       "      <th>tempMin</th>\n",
       "      <th>tempMax</th>\n",
       "      <th>summary</th>\n",
       "      <th>desc</th>\n",
       "      <th>cloudCover</th>\n",
       "      <th>humidity</th>\n",
       "      <th>windSpeed</th>\n",
       "      <th>visibility</th>\n",
       "    </tr>\n",
       "  </thead>\n",
       "  <tbody>\n",
       "    <tr>\n",
       "      <th>0</th>\n",
       "      <td>2015-01-01</td>\n",
       "      <td>7.53</td>\n",
       "      <td>12.23</td>\n",
       "      <td>Possible light rain until evening.</td>\n",
       "      <td>rain</td>\n",
       "      <td>0.80</td>\n",
       "      <td>0.89</td>\n",
       "      <td>14.69</td>\n",
       "      <td>4.43</td>\n",
       "    </tr>\n",
       "    <tr>\n",
       "      <th>1</th>\n",
       "      <td>2015-01-02</td>\n",
       "      <td>3.58</td>\n",
       "      <td>7.15</td>\n",
       "      <td>Possible light rain throughout the day.</td>\n",
       "      <td>rain</td>\n",
       "      <td>0.62</td>\n",
       "      <td>0.79</td>\n",
       "      <td>15.04</td>\n",
       "      <td>5.64</td>\n",
       "    </tr>\n",
       "    <tr>\n",
       "      <th>2</th>\n",
       "      <td>2015-01-03</td>\n",
       "      <td>-0.61</td>\n",
       "      <td>6.54</td>\n",
       "      <td>Clear throughout the day.</td>\n",
       "      <td>rain</td>\n",
       "      <td>0.31</td>\n",
       "      <td>0.84</td>\n",
       "      <td>4.48</td>\n",
       "      <td>6.20</td>\n",
       "    </tr>\n",
       "    <tr>\n",
       "      <th>3</th>\n",
       "      <td>2015-01-04</td>\n",
       "      <td>-0.63</td>\n",
       "      <td>7.59</td>\n",
       "      <td>Mostly cloudy throughout the day.</td>\n",
       "      <td>partly-cloudy-day</td>\n",
       "      <td>0.78</td>\n",
       "      <td>0.85</td>\n",
       "      <td>4.35</td>\n",
       "      <td>6.22</td>\n",
       "    </tr>\n",
       "    <tr>\n",
       "      <th>4</th>\n",
       "      <td>2015-01-05</td>\n",
       "      <td>6.51</td>\n",
       "      <td>10.43</td>\n",
       "      <td>Overcast throughout the day.</td>\n",
       "      <td>partly-cloudy-day</td>\n",
       "      <td>0.85</td>\n",
       "      <td>0.91</td>\n",
       "      <td>6.20</td>\n",
       "      <td>5.91</td>\n",
       "    </tr>\n",
       "  </tbody>\n",
       "</table>\n",
       "</div>"
      ],
      "text/plain": [
       "         day  tempMin  tempMax                                  summary  \\\n",
       "0 2015-01-01     7.53    12.23       Possible light rain until evening.   \n",
       "1 2015-01-02     3.58     7.15  Possible light rain throughout the day.   \n",
       "2 2015-01-03    -0.61     6.54                Clear throughout the day.   \n",
       "3 2015-01-04    -0.63     7.59        Mostly cloudy throughout the day.   \n",
       "4 2015-01-05     6.51    10.43             Overcast throughout the day.   \n",
       "\n",
       "                desc  cloudCover  humidity  windSpeed  visibility  \n",
       "0               rain        0.80      0.89      14.69        4.43  \n",
       "1               rain        0.62      0.79      15.04        5.64  \n",
       "2               rain        0.31      0.84       4.48        6.20  \n",
       "3  partly-cloudy-day        0.78      0.85       4.35        6.22  \n",
       "4  partly-cloudy-day        0.85      0.91       6.20        5.91  "
      ]
     },
     "execution_count": 122,
     "metadata": {},
     "output_type": "execute_result"
    }
   ],
   "source": [
    "df = pd.read_excel('clean_weather_data1.xlsx')\n",
    "df.head()"
   ]
  },
  {
   "cell_type": "code",
   "execution_count": 123,
   "metadata": {},
   "outputs": [
    {
     "data": {
      "text/plain": [
       "day           0\n",
       "tempMin       0\n",
       "tempMax       0\n",
       "summary       0\n",
       "desc          0\n",
       "cloudCover    0\n",
       "humidity      0\n",
       "windSpeed     0\n",
       "visibility    0\n",
       "dtype: int64"
      ]
     },
     "execution_count": 123,
     "metadata": {},
     "output_type": "execute_result"
    }
   ],
   "source": [
    "df.isnull().sum()"
   ]
  },
  {
   "cell_type": "code",
   "execution_count": 124,
   "metadata": {},
   "outputs": [],
   "source": [
    "df = df.drop(['day','summary'], axis=1)"
   ]
  },
  {
   "cell_type": "code",
   "execution_count": 125,
   "metadata": {},
   "outputs": [
    {
     "data": {
      "text/html": [
       "<div>\n",
       "<style scoped>\n",
       "    .dataframe tbody tr th:only-of-type {\n",
       "        vertical-align: middle;\n",
       "    }\n",
       "\n",
       "    .dataframe tbody tr th {\n",
       "        vertical-align: top;\n",
       "    }\n",
       "\n",
       "    .dataframe thead th {\n",
       "        text-align: right;\n",
       "    }\n",
       "</style>\n",
       "<table border=\"1\" class=\"dataframe\">\n",
       "  <thead>\n",
       "    <tr style=\"text-align: right;\">\n",
       "      <th></th>\n",
       "      <th>tempMin</th>\n",
       "      <th>tempMax</th>\n",
       "      <th>cloudCover</th>\n",
       "      <th>humidity</th>\n",
       "      <th>windSpeed</th>\n",
       "      <th>visibility</th>\n",
       "    </tr>\n",
       "  </thead>\n",
       "  <tbody>\n",
       "    <tr>\n",
       "      <th>count</th>\n",
       "      <td>1611.000000</td>\n",
       "      <td>1611.000000</td>\n",
       "      <td>1611.000000</td>\n",
       "      <td>1611.000000</td>\n",
       "      <td>1611.000000</td>\n",
       "      <td>1611.000000</td>\n",
       "    </tr>\n",
       "    <tr>\n",
       "      <th>mean</th>\n",
       "      <td>5.724798</td>\n",
       "      <td>12.539280</td>\n",
       "      <td>0.594109</td>\n",
       "      <td>0.819323</td>\n",
       "      <td>6.696375</td>\n",
       "      <td>5.759379</td>\n",
       "    </tr>\n",
       "    <tr>\n",
       "      <th>std</th>\n",
       "      <td>4.711584</td>\n",
       "      <td>5.167534</td>\n",
       "      <td>0.226070</td>\n",
       "      <td>0.074883</td>\n",
       "      <td>3.761637</td>\n",
       "      <td>0.827483</td>\n",
       "    </tr>\n",
       "    <tr>\n",
       "      <th>min</th>\n",
       "      <td>-8.670000</td>\n",
       "      <td>-1.390000</td>\n",
       "      <td>0.000000</td>\n",
       "      <td>0.500000</td>\n",
       "      <td>0.140000</td>\n",
       "      <td>0.190000</td>\n",
       "    </tr>\n",
       "    <tr>\n",
       "      <th>25%</th>\n",
       "      <td>2.270000</td>\n",
       "      <td>8.715000</td>\n",
       "      <td>0.450000</td>\n",
       "      <td>0.775000</td>\n",
       "      <td>3.920000</td>\n",
       "      <td>5.530000</td>\n",
       "    </tr>\n",
       "    <tr>\n",
       "      <th>50%</th>\n",
       "      <td>5.780000</td>\n",
       "      <td>12.370000</td>\n",
       "      <td>0.630000</td>\n",
       "      <td>0.830000</td>\n",
       "      <td>5.860000</td>\n",
       "      <td>6.010000</td>\n",
       "    </tr>\n",
       "    <tr>\n",
       "      <th>75%</th>\n",
       "      <td>9.380000</td>\n",
       "      <td>16.485000</td>\n",
       "      <td>0.760000</td>\n",
       "      <td>0.870000</td>\n",
       "      <td>8.665000</td>\n",
       "      <td>6.210000</td>\n",
       "    </tr>\n",
       "    <tr>\n",
       "      <th>max</th>\n",
       "      <td>18.030000</td>\n",
       "      <td>30.220000</td>\n",
       "      <td>0.990000</td>\n",
       "      <td>1.000000</td>\n",
       "      <td>23.670000</td>\n",
       "      <td>10.000000</td>\n",
       "    </tr>\n",
       "  </tbody>\n",
       "</table>\n",
       "</div>"
      ],
      "text/plain": [
       "           tempMin      tempMax   cloudCover     humidity    windSpeed  \\\n",
       "count  1611.000000  1611.000000  1611.000000  1611.000000  1611.000000   \n",
       "mean      5.724798    12.539280     0.594109     0.819323     6.696375   \n",
       "std       4.711584     5.167534     0.226070     0.074883     3.761637   \n",
       "min      -8.670000    -1.390000     0.000000     0.500000     0.140000   \n",
       "25%       2.270000     8.715000     0.450000     0.775000     3.920000   \n",
       "50%       5.780000    12.370000     0.630000     0.830000     5.860000   \n",
       "75%       9.380000    16.485000     0.760000     0.870000     8.665000   \n",
       "max      18.030000    30.220000     0.990000     1.000000    23.670000   \n",
       "\n",
       "        visibility  \n",
       "count  1611.000000  \n",
       "mean      5.759379  \n",
       "std       0.827483  \n",
       "min       0.190000  \n",
       "25%       5.530000  \n",
       "50%       6.010000  \n",
       "75%       6.210000  \n",
       "max      10.000000  "
      ]
     },
     "execution_count": 125,
     "metadata": {},
     "output_type": "execute_result"
    }
   ],
   "source": [
    "df.describe()"
   ]
  },
  {
   "cell_type": "code",
   "execution_count": 126,
   "metadata": {},
   "outputs": [],
   "source": [
    "df.desc = df.desc.replace(['clear-day', 'cloudy', 'fog', 'partly-cloudy-day', 'rain'], [0,1,2,3,4])\n",
    "x = df.drop(['desc'], axis=1)\n",
    "y = df.desc"
   ]
  },
  {
   "cell_type": "code",
   "execution_count": 127,
   "metadata": {},
   "outputs": [],
   "source": [
    "x_train, x_test, y_train, y_test =train_test_split(x, y, test_size=0.5, random_state=0)"
   ]
  },
  {
   "cell_type": "code",
   "execution_count": 128,
   "metadata": {},
   "outputs": [
    {
     "data": {
      "text/plain": [
       "LogisticRegression(C=0.05, multi_class='ovr', random_state=0,\n",
       "                   solver='liblinear')"
      ]
     },
     "execution_count": 128,
     "metadata": {},
     "output_type": "execute_result"
    }
   ],
   "source": [
    "model = LogisticRegression(solver='liblinear', C=0.05, multi_class='ovr', random_state=0)\n",
    "model.fit(x_train, y_train)"
   ]
  },
  {
   "cell_type": "code",
   "execution_count": 129,
   "metadata": {},
   "outputs": [
    {
     "data": {
      "text/plain": [
       "LogisticRegression(C=0.05, multi_class='ovr', random_state=0,\n",
       "                   solver='liblinear')"
      ]
     },
     "execution_count": 129,
     "metadata": {},
     "output_type": "execute_result"
    }
   ],
   "source": [
    "LogisticRegression(C=0.05, class_weight=None, dual=False, fit_intercept=True,\n",
    "                   intercept_scaling=1, l1_ratio=None, max_iter=100,\n",
    "                   multi_class='ovr', n_jobs=None, penalty='l2', random_state=0,\n",
    "                   solver='liblinear', tol=0.0001, verbose=0, warm_start=False)"
   ]
  },
  {
   "cell_type": "code",
   "execution_count": 130,
   "metadata": {},
   "outputs": [],
   "source": [
    "x_test = StandardScaler().fit_transform(x_test)"
   ]
  },
  {
   "cell_type": "code",
   "execution_count": 131,
   "metadata": {},
   "outputs": [],
   "source": [
    "y_pred = model.predict(x_test)"
   ]
  },
  {
   "cell_type": "code",
   "execution_count": 132,
   "metadata": {},
   "outputs": [
    {
     "data": {
      "text/plain": [
       "0.6049689440993788"
      ]
     },
     "execution_count": 132,
     "metadata": {},
     "output_type": "execute_result"
    }
   ],
   "source": [
    "model.score(x_train, y_train)"
   ]
  },
  {
   "cell_type": "code",
   "execution_count": 133,
   "metadata": {},
   "outputs": [
    {
     "data": {
      "text/plain": [
       "0.46774193548387094"
      ]
     },
     "execution_count": 133,
     "metadata": {},
     "output_type": "execute_result"
    }
   ],
   "source": [
    "model.score(x_test, y_test)"
   ]
  },
  {
   "cell_type": "code",
   "execution_count": 134,
   "metadata": {},
   "outputs": [
    {
     "data": {
      "text/plain": [
       "array([[104,   0,   0,   0,   0],\n",
       "       [  0,  20,   6,   1,   7],\n",
       "       [  0,   0,   0,   0,   0],\n",
       "       [128,  40,  44,  27,  39],\n",
       "       [ 44,  53,  50,  17, 226]], dtype=int64)"
      ]
     },
     "execution_count": 134,
     "metadata": {},
     "output_type": "execute_result"
    }
   ],
   "source": [
    "confusion_matrix(y_test, y_pred)"
   ]
  },
  {
   "cell_type": "markdown",
   "metadata": {},
   "source": [
    "##### cm = confusion_matrix(y_test, y_pred)\n",
    "\n",
    "fig, ax = plt.subplots(figsize=(8, 8))\n",
    "ax.imshow(cm)\n",
    "ax.grid(False)\n",
    "ax.set_xlabel('Predicted outputs', color='black')\n",
    "ax.set_ylabel('Actual outputs', color='black')\n",
    "ax.xaxis.set(ticks=range(10))\n",
    "ax.yaxis.set(ticks=range(10))\n",
    "ax.set_ylim(9.5, -0.5)\n",
    "for i in range(5):\n",
    "    for j in range(5):\n",
    "        ax.text(j, i, cm[i, j], ha='center', va='center', color='white')\n",
    "plt.show()"
   ]
  },
  {
   "cell_type": "code",
   "execution_count": 135,
   "metadata": {},
   "outputs": [
    {
     "data": {
      "image/png": "[encoded data removed]",
      "text/plain": [
       "<Figure size 576x576 with 1 Axes>"
      ]
     },
     "metadata": {
      "needs_background": "light"
     },
     "output_type": "display_data"
    }
   ],
   "source": [
    "cm = confusion_matrix(y_test, y_pred)\n",
    "\n",
    "fig, ax = plt.subplots(figsize=(8, 8))\n",
    "ax.imshow(cm)\n",
    "ax.grid(False)\n",
    "ax.set_xlabel('Predicted outputs', color='black')\n",
    "ax.set_ylabel('Actual outputs', color='black')\n",
    "ax.xaxis.set(ticks=range(5))\n",
    "ax.yaxis.set(ticks=range(5))\n",
    "ax.set_ylim(4.5, -0.5)\n",
    "for i in range(5):\n",
    "    for j in range(5):\n",
    "        ax.text(j, i, cm[i, j], ha='center', va='center', color='white')\n",
    "plt.show()"
   ]
  },
  {
   "cell_type": "code",
   "execution_count": null,
   "metadata": {},
   "outputs": [],
   "source": []
  }
 ],
 "metadata": {
  "kernelspec": {
   "display_name": "Python 3",
   "language": "python",
   "name": "python3"
  },
  "language_info": {
   "codemirror_mode": {
    "name": "ipython",
    "version": 3
   },
   "file_extension": ".py",
   "mimetype": "text/x-python",
   "name": "python",
   "nbconvert_exporter": "python",
   "pygments_lexer": "ipython3",
   "version": "3.8.8"
  }
 },
 "nbformat": 4,
 "nbformat_minor": 4
}
